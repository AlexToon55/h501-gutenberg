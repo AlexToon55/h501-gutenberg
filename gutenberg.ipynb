{
 "cells": [
  {
   "cell_type": "code",
   "execution_count": 3,
   "id": "d90f43c0",
   "metadata": {},
   "outputs": [
    {
     "name": "stdout",
     "output_type": "stream",
     "text": [
      "\n",
      "# conda environments:\n",
      "#\n",
      "base                   /opt/miniconda3\n",
      "H501-GUTENBERG       * /opt/miniconda3/envs/H501-GUTENBERG\n",
      "\n"
     ]
    }
   ],
   "source": [
    "!conda env list"
   ]
  },
  {
   "cell_type": "code",
   "execution_count": 13,
   "id": "68543ec2",
   "metadata": {},
   "outputs": [
    {
     "ename": "ModuleNotFoundError",
     "evalue": "No module named 'tt_gutenberg'",
     "output_type": "error",
     "traceback": [
      "\u001b[31m---------------------------------------------------------------------------\u001b[39m",
      "\u001b[31mModuleNotFoundError\u001b[39m                       Traceback (most recent call last)",
      "\u001b[36mCell\u001b[39m\u001b[36m \u001b[39m\u001b[32mIn[13]\u001b[39m\u001b[32m, line 1\u001b[39m\n\u001b[32m----> \u001b[39m\u001b[32m1\u001b[39m \u001b[38;5;28;01mfrom\u001b[39;00m\u001b[38;5;250m \u001b[39m\u001b[34;01mtt_gutenberg\u001b[39;00m\u001b[34;01m.\u001b[39;00m\u001b[34;01mauthors\u001b[39;00m\u001b[38;5;250m \u001b[39m\u001b[38;5;28;01mimport\u001b[39;00m *\n\u001b[32m      3\u001b[39m list_authors(by_languages=\u001b[38;5;28;01mTrue\u001b[39;00m, alias=\u001b[38;5;28;01mTrue\u001b[39;00m)\n",
      "\u001b[31mModuleNotFoundError\u001b[39m: No module named 'tt_gutenberg'"
     ]
    }
   ],
   "source": [
    "from tt_gutenberg.authors import *\n",
    "\n",
    "list_authors(by_languages=True, alias=True)"
   ]
  },
  {
   "cell_type": "code",
   "execution_count": null,
   "id": "8fb33f29",
   "metadata": {},
   "outputs": [
    {
     "ename": "ImportError",
     "evalue": "cannot import name 'load_languages' from 'tt_gutenberg.dataset' (/Users/alextoon/Documents/GitHub/h501-gutenberg/tt_gutenberg/dataset.py)",
     "output_type": "error",
     "traceback": [
      "\u001b[31m---------------------------------------------------------------------------\u001b[39m",
      "\u001b[31mImportError\u001b[39m                               Traceback (most recent call last)",
      "\u001b[36mCell\u001b[39m\u001b[36m \u001b[39m\u001b[32mIn[9]\u001b[39m\u001b[32m, line 1\u001b[39m\n\u001b[32m----> \u001b[39m\u001b[32m1\u001b[39m \u001b[38;5;28;01mfrom\u001b[39;00m\u001b[38;5;250m \u001b[39m\u001b[34;01mtt_gutenberg\u001b[39;00m\u001b[34;01m.\u001b[39;00m\u001b[34;01mdataset\u001b[39;00m\u001b[38;5;250m \u001b[39m\u001b[38;5;28;01mimport\u001b[39;00m load_languages, load_metadata\n\u001b[32m      3\u001b[39m langs = load_languages()\n\u001b[32m      4\u001b[39m meta = load_metadata()\n",
      "\u001b[31mImportError\u001b[39m: cannot import name 'load_languages' from 'tt_gutenberg.dataset' (/Users/alextoon/Documents/GitHub/h501-gutenberg/tt_gutenberg/dataset.py)"
     ]
    }
   ],
   "source": [
    "from tt_gutenberg.dataset import load_languages, load_metadata\n",
    "\n",
    "langs = load_languages()\n",
    "meta = load_metadata()\n",
    "\n",
    "print(langs.columns.tolist())\n",
    "print(langs.head(3))\n",
    "\n",
    "print(meta.columns.tolist())\n",
    "print(meta.head(3))"
   ]
  },
  {
   "cell_type": "code",
   "execution_count": 10,
   "id": "0e9cbb94",
   "metadata": {},
   "outputs": [
    {
     "name": "stdout",
     "output_type": "stream",
     "text": [
      "['gutenberg_author_id', 'author', 'alias', 'birthdate', 'deathdate', 'wikipedia', 'aliases']\n",
      "   gutenberg_author_id  ...                                           aliases\n",
      "0                    1  ...                                            U.S.A.\n",
      "1                    3  ...  United States President (1861-1865)/Lincoln, Abe\n",
      "2                    4  ...                                               NaN\n",
      "\n",
      "[3 rows x 7 columns]\n"
     ]
    }
   ],
   "source": [
    "from tt_gutenberg.dataset import load_authors\n",
    "\n",
    "authors = load_authors()\n",
    "print(authors.columns.tolist())\n",
    "print(authors.head(3))"
   ]
  },
  {
   "cell_type": "code",
   "execution_count": 1,
   "id": "a3af6470",
   "metadata": {},
   "outputs": [
    {
     "name": "stdout",
     "output_type": "stream",
     "text": [
      "['gutenberg_id', 'language', 'total_languages']\n",
      "   gutenberg_id language  total_languages\n",
      "0             1       en                1\n",
      "1             2       en                1\n",
      "2             3       en                1\n"
     ]
    }
   ],
   "source": [
    "from tt_gutenberg.dataset import load_languages\n",
    "\n",
    "langs = load_languages()\n",
    "print(langs.columns.tolist())\n",
    "print(langs.head(3))"
   ]
  },
  {
   "cell_type": "code",
   "execution_count": 5,
   "id": "6a668cc9",
   "metadata": {},
   "outputs": [
    {
     "name": "stdout",
     "output_type": "stream",
     "text": [
      "['gutenberg_id', 'title', 'author', 'gutenberg_author_id', 'language', 'gutenberg_bookshelf', 'rights', 'has_text']\n",
      "   gutenberg_id                                              title  \\\n",
      "0             1  The Declaration of Independence of the United ...   \n",
      "1             2  The United States Bill of Rights\\r\\nThe Ten Or...   \n",
      "2             3                John F. Kennedy's Inaugural Address   \n",
      "\n",
      "                               author  gutenberg_author_id language  \\\n",
      "0                   Jefferson, Thomas               1638.0       en   \n",
      "1                       United States                  1.0       en   \n",
      "2  Kennedy, John F. (John Fitzgerald)               1666.0       en   \n",
      "\n",
      "                                 gutenberg_bookshelf  \\\n",
      "0  Politics/American Revolutionary War/United Sta...   \n",
      "1  Politics/American Revolutionary War/United Sta...   \n",
      "2    Browsing: History - American/Browsing: Politics   \n",
      "\n",
      "                      rights  has_text  \n",
      "0  Public domain in the USA.      True  \n",
      "1  Public domain in the USA.      True  \n",
      "2  Public domain in the USA.      True  \n"
     ]
    }
   ],
   "source": [
    "from tt_gutenberg.dataset import load_metadata\n",
    "\n",
    "meta = load_metadata()\n",
    "print(meta.columns.tolist())\n",
    "print(meta.head(3))"
   ]
  }
 ],
 "metadata": {
  "kernelspec": {
   "display_name": "H501-GUTENBERG",
   "language": "python",
   "name": "python3"
  },
  "language_info": {
   "codemirror_mode": {
    "name": "ipython",
    "version": 3
   },
   "file_extension": ".py",
   "mimetype": "text/x-python",
   "name": "python",
   "nbconvert_exporter": "python",
   "pygments_lexer": "ipython3",
   "version": "3.12.11"
  }
 },
 "nbformat": 4,
 "nbformat_minor": 5
}
