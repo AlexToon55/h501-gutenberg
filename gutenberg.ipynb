{
 "cells": [
  {
   "cell_type": "code",
   "execution_count": 3,
   "id": "d90f43c0",
   "metadata": {},
   "outputs": [
    {
     "name": "stdout",
     "output_type": "stream",
     "text": [
      "\n",
      "# conda environments:\n",
      "#\n",
      "base                   /opt/miniconda3\n",
      "H501-GUTENBERG       * /opt/miniconda3/envs/H501-GUTENBERG\n",
      "\n"
     ]
    }
   ],
   "source": [
    "!conda env list"
   ]
  },
  {
   "cell_type": "code",
   "execution_count": 2,
   "id": "68543ec2",
   "metadata": {},
   "outputs": [
    {
     "data": {
      "text/plain": [
       "['Grimm, Jacob Ludwig Carl',\n",
       " 'Grimm, Wilhelm Carl',\n",
       " 'Stevenson, R. L. (Robert Louis)',\n",
       " \"Wilde, Oscar Fingal O'Flahertie Wills\",\n",
       " 'Poe, Edgar Allen',\n",
       " 'Alighieri, Dante',\n",
       " 'Andersen, Hans Christian',\n",
       " 'Όμηρος',\n",
       " 'Dodgson, Charles Lutwidge',\n",
       " 'Πλάτων']"
      ]
     },
     "execution_count": 2,
     "metadata": {},
     "output_type": "execute_result"
    }
   ],
   "source": [
    "from tt_gutenberg.authors import *\n",
    "\n",
    "list_authors(by_languages=True, alias=True) [:10]"
   ]
  },
  {
   "cell_type": "code",
   "execution_count": 10,
   "id": "0e9cbb94",
   "metadata": {},
   "outputs": [
    {
     "name": "stdout",
     "output_type": "stream",
     "text": [
      "['gutenberg_author_id', 'author', 'alias', 'birthdate', 'deathdate', 'wikipedia', 'aliases']\n",
      "   gutenberg_author_id  ...                                           aliases\n",
      "0                    1  ...                                            U.S.A.\n",
      "1                    3  ...  United States President (1861-1865)/Lincoln, Abe\n",
      "2                    4  ...                                               NaN\n",
      "\n",
      "[3 rows x 7 columns]\n"
     ]
    }
   ],
   "source": [
    "from tt_gutenberg.dataset import load_authors\n",
    "\n",
    "authors = load_authors()\n",
    "print(authors.columns.tolist())\n",
    "print(authors.head(3))"
   ]
  },
  {
   "cell_type": "code",
   "execution_count": 1,
   "id": "a3af6470",
   "metadata": {},
   "outputs": [
    {
     "name": "stdout",
     "output_type": "stream",
     "text": [
      "['gutenberg_id', 'language', 'total_languages']\n",
      "   gutenberg_id language  total_languages\n",
      "0             1       en                1\n",
      "1             2       en                1\n",
      "2             3       en                1\n"
     ]
    }
   ],
   "source": [
    "from tt_gutenberg.dataset import load_languages\n",
    "\n",
    "langs = load_languages()\n",
    "print(langs.columns.tolist())\n",
    "print(langs.head(3))"
   ]
  },
  {
   "cell_type": "code",
   "execution_count": 5,
   "id": "6a668cc9",
   "metadata": {},
   "outputs": [
    {
     "name": "stdout",
     "output_type": "stream",
     "text": [
      "['gutenberg_id', 'title', 'author', 'gutenberg_author_id', 'language', 'gutenberg_bookshelf', 'rights', 'has_text']\n",
      "   gutenberg_id                                              title  \\\n",
      "0             1  The Declaration of Independence of the United ...   \n",
      "1             2  The United States Bill of Rights\\r\\nThe Ten Or...   \n",
      "2             3                John F. Kennedy's Inaugural Address   \n",
      "\n",
      "                               author  gutenberg_author_id language  \\\n",
      "0                   Jefferson, Thomas               1638.0       en   \n",
      "1                       United States                  1.0       en   \n",
      "2  Kennedy, John F. (John Fitzgerald)               1666.0       en   \n",
      "\n",
      "                                 gutenberg_bookshelf  \\\n",
      "0  Politics/American Revolutionary War/United Sta...   \n",
      "1  Politics/American Revolutionary War/United Sta...   \n",
      "2    Browsing: History - American/Browsing: Politics   \n",
      "\n",
      "                      rights  has_text  \n",
      "0  Public domain in the USA.      True  \n",
      "1  Public domain in the USA.      True  \n",
      "2  Public domain in the USA.      True  \n"
     ]
    }
   ],
   "source": [
    "from tt_gutenberg.dataset import load_metadata\n",
    "\n",
    "meta = load_metadata()\n",
    "print(meta.columns.tolist())\n",
    "print(meta.head(3))"
   ]
  },
  {
   "cell_type": "code",
   "execution_count": 6,
   "id": "fdf0da54",
   "metadata": {},
   "outputs": [
    {
     "data": {
      "text/html": [
       "<div>\n",
       "<style scoped>\n",
       "    .dataframe tbody tr th:only-of-type {\n",
       "        vertical-align: middle;\n",
       "    }\n",
       "\n",
       "    .dataframe tbody tr th {\n",
       "        vertical-align: top;\n",
       "    }\n",
       "\n",
       "    .dataframe thead th {\n",
       "        text-align: right;\n",
       "    }\n",
       "</style>\n",
       "<table border=\"1\" class=\"dataframe\">\n",
       "  <thead>\n",
       "    <tr style=\"text-align: right;\">\n",
       "      <th></th>\n",
       "      <th>gutenberg_author_id</th>\n",
       "      <th>language_count</th>\n",
       "    </tr>\n",
       "  </thead>\n",
       "  <tbody>\n",
       "    <tr>\n",
       "      <th>0</th>\n",
       "      <td>1.0</td>\n",
       "      <td>1</td>\n",
       "    </tr>\n",
       "    <tr>\n",
       "      <th>1</th>\n",
       "      <td>3.0</td>\n",
       "      <td>1</td>\n",
       "    </tr>\n",
       "    <tr>\n",
       "      <th>2</th>\n",
       "      <td>4.0</td>\n",
       "      <td>1</td>\n",
       "    </tr>\n",
       "    <tr>\n",
       "      <th>3</th>\n",
       "      <td>5.0</td>\n",
       "      <td>2</td>\n",
       "    </tr>\n",
       "    <tr>\n",
       "      <th>4</th>\n",
       "      <td>7.0</td>\n",
       "      <td>6</td>\n",
       "    </tr>\n",
       "  </tbody>\n",
       "</table>\n",
       "</div>"
      ],
      "text/plain": [
       "   gutenberg_author_id  language_count\n",
       "0                  1.0               1\n",
       "1                  3.0               1\n",
       "2                  4.0               1\n",
       "3                  5.0               2\n",
       "4                  7.0               6"
      ]
     },
     "execution_count": 6,
     "metadata": {},
     "output_type": "execute_result"
    }
   ],
   "source": [
    "counts = (\n",
    "\n",
    "    meta.groupby('gutenberg_author_id')['language']\n",
    "    .nunique()\n",
    "    .reset_index(name='language_count')\n",
    ")\n",
    "counts.head()"
   ]
  },
  {
   "cell_type": "code",
   "execution_count": null,
   "id": "78af16d4",
   "metadata": {},
   "outputs": [
    {
     "data": {
      "text/plain": [
       "['Grimm, Jacob Ludwig Carl',\n",
       " 'Grimm, Wilhelm Carl',\n",
       " 'Stevenson, R. L. (Robert Louis)',\n",
       " \"Wilde, Oscar Fingal O'Flahertie Wills\",\n",
       " 'Poe, Edgar Allen',\n",
       " 'Alighieri, Dante',\n",
       " 'Andersen, Hans Christian',\n",
       " 'Όμηρος',\n",
       " 'Dodgson, Charles Lutwidge',\n",
       " 'Πλάτων']"
      ]
     },
     "execution_count": 2,
     "metadata": {},
     "output_type": "execute_result"
    }
   ],
   "source": [
    "from tt_gutenberg.authors import list_authors\n",
    "list_authors(by_languages=True, alias=True)[:10]\n",
    "len(aliases)"
   ]
  },
  {
   "cell_type": "code",
   "execution_count": 3,
   "id": "6b498e69",
   "metadata": {},
   "outputs": [
    {
     "name": "stdout",
     "output_type": "stream",
     "text": [
      "8651 ['Grimm, Jacob Ludwig Carl', 'Grimm, Wilhelm Carl', 'Stevenson, R. L. (Robert Louis)', \"Wilde, Oscar Fingal O'Flahertie Wills\", 'Poe, Edgar Allen', 'Alighieri, Dante', 'Andersen, Hans Christian', 'Όμηρος', 'Dodgson, Charles Lutwidge', 'Πλάτων']\n"
     ]
    }
   ],
   "source": [
    "from tt_gutenberg.authors import list_authors\n",
    "out = list_authors(by_languages=True, alias=True)\n",
    "print(len(out), out[:10])"
   ]
  },
  {
   "cell_type": "code",
   "execution_count": 4,
   "id": "6d456803",
   "metadata": {},
   "outputs": [
    {
     "data": {
      "text/plain": [
       "['gutenberg_author_id',\n",
       " 'author',\n",
       " 'alias',\n",
       " 'birthdate',\n",
       " 'deathdate',\n",
       " 'wikipedia',\n",
       " 'aliases']"
      ]
     },
     "execution_count": 4,
     "metadata": {},
     "output_type": "execute_result"
    }
   ],
   "source": [
    "from tt_gutenberg.authors import load_authors\n",
    "load_authors().columns.tolist()"
   ]
  },
  {
   "cell_type": "code",
   "execution_count": 4,
   "id": "cd2fed5c",
   "metadata": {},
   "outputs": [
    {
     "data": {
      "text/plain": [
       "(8651,\n",
       " ['Grimm, Jacob Ludwig Carl',\n",
       "  'Grimm, Wilhelm Carl',\n",
       "  'Stevenson, R. L. (Robert Louis)',\n",
       "  \"Wilde, Oscar Fingal O'Flahertie Wills\",\n",
       "  'Poe, Edgar Allen',\n",
       "  'Alighieri, Dante',\n",
       "  'Andersen, Hans Christian',\n",
       "  'Όμηρος',\n",
       "  'Dodgson, Charles Lutwidge',\n",
       "  'Πλάτων'])"
      ]
     },
     "execution_count": 4,
     "metadata": {},
     "output_type": "execute_result"
    }
   ],
   "source": [
    "len(list_authors(True, True)), list_authors(True, True)[:10]"
   ]
  }
 ],
 "metadata": {
  "kernelspec": {
   "display_name": "H501-GUTENBERG",
   "language": "python",
   "name": "python3"
  },
  "language_info": {
   "codemirror_mode": {
    "name": "ipython",
    "version": 3
   },
   "file_extension": ".py",
   "mimetype": "text/x-python",
   "name": "python",
   "nbconvert_exporter": "python",
   "pygments_lexer": "ipython3",
   "version": "3.12.11"
  }
 },
 "nbformat": 4,
 "nbformat_minor": 5
}
